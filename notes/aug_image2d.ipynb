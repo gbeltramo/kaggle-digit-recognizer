{
 "cells": [
  {
   "cell_type": "markdown",
   "id": "79a4bbb4-0cd8-470e-8884-c4102616f9f7",
   "metadata": {},
   "source": [
    "# Test `aug.image2d`\n",
    "\n",
    "**Notes**\n",
    "- Using `batch_size=42_000` causes an error. Tested with up to `batch_size=4096`"
   ]
  },
  {
   "cell_type": "markdown",
   "id": "36769953-abc4-47aa-b2b6-5c57b82d3adb",
   "metadata": {},
   "source": [
    "## Imports"
   ]
  },
  {
   "cell_type": "code",
   "execution_count": null,
   "id": "40d24fdc-02c1-4894-b8d1-345b7928fe83",
   "metadata": {},
   "outputs": [],
   "source": [
    "import kaggland.digrec.data.load\n",
    "import kaggland.utils.preprocessing.aug.image2d as aug_image2d\n",
    "import matplotlib.pyplot as plt\n",
    "import numpy as np\n",
    "import pathlib"
   ]
  },
  {
   "cell_type": "markdown",
   "id": "4ddc63a3-1b42-4501-a9fa-7c37896225d7",
   "metadata": {},
   "source": [
    "## Run augmentations"
   ]
  },
  {
   "cell_type": "code",
   "execution_count": null,
   "id": "e53807d1-c349-4ebd-a779-10335a38075d",
   "metadata": {},
   "outputs": [],
   "source": [
    "images, _ = kaggland.digrec.data.load.read_data(\n",
    "    pathlib.Path(\"/home/gabri/data/kaggle/digit-recognizer/train.csv\")\n",
    ")\n",
    "\n",
    "images = images[:128].copy()\n",
    "print(images.shape, images.dtype)"
   ]
  },
  {
   "cell_type": "code",
   "execution_count": null,
   "id": "1a802370-cb86-472b-b4de-1d24895b5cdf",
   "metadata": {},
   "outputs": [],
   "source": [
    "%%time\n",
    "aug_res = aug_image2d.random_translation(\n",
    "    images=images,\n",
    "    labels=None,\n",
    "    random_transl_range=(-10, +10),\n",
    "    prob_thresh=0.5,\n",
    "    random_seed=0,\n",
    ")\n",
    "print(f\"{aug_res.selected[:16]=}\")"
   ]
  },
  {
   "cell_type": "markdown",
   "id": "a8e4b248-44af-46d3-96a4-701b7e6f7333",
   "metadata": {},
   "source": [
    "## Quick tiny benchmark\n",
    "\n",
    "Using `batch_size=16`\n",
    "\n",
    "- timing `numpy`: (148 mu-s, 154 mu-s)\n",
    "- timing `numpy`+`numba`: (45.1 mu-s, 45.8 mu-s)"
   ]
  },
  {
   "cell_type": "code",
   "execution_count": null,
   "id": "bf2edbe5-e300-4cd7-a9b0-e318a623c785",
   "metadata": {},
   "outputs": [],
   "source": [
    "# bench_images = images[:16].copy()"
   ]
  },
  {
   "cell_type": "code",
   "execution_count": null,
   "id": "a2187fd8-743c-4b88-8eb0-5de2195cbc2a",
   "metadata": {},
   "outputs": [],
   "source": [
    "# %%timeit\n",
    "# _ = aug_image2d.random_translation(\n",
    "#     images=bench_images,\n",
    "#     labels=None,\n",
    "#     random_transl_range=(-10, +10),\n",
    "#     prob_thresh=0.5,\n",
    "# )"
   ]
  },
  {
   "cell_type": "markdown",
   "id": "c041b8a7-458a-4e59-be57-5dd9d3cb156a",
   "metadata": {},
   "source": [
    "## Plot"
   ]
  },
  {
   "cell_type": "code",
   "execution_count": null,
   "id": "c9fd77c8-b3f8-4b26-98ff-caec11890242",
   "metadata": {},
   "outputs": [],
   "source": [
    "N = 8\n",
    "fig ,ax = plt.subplots(1, N, figsize=(3*N, 3))\n",
    "for idx in range(N):\n",
    "    img = images[idx].copy()\n",
    "    ax[idx].imshow(img, cmap=\"gray\")\n",
    "    ax[idx].axis(\"off\")\n",
    "    ax[idx].set(title=f\"{idx=}\")\n",
    "fig.tight_layout()"
   ]
  },
  {
   "cell_type": "code",
   "execution_count": null,
   "id": "b8d9f5da-9013-4b5d-8baf-afa0fac91e56",
   "metadata": {},
   "outputs": [],
   "source": []
  }
 ],
 "metadata": {
  "kernelspec": {
   "display_name": "Python 3 (ipykernel)",
   "language": "python",
   "name": "python3"
  },
  "language_info": {
   "codemirror_mode": {
    "name": "ipython",
    "version": 3
   },
   "file_extension": ".py",
   "mimetype": "text/x-python",
   "name": "python",
   "nbconvert_exporter": "python",
   "pygments_lexer": "ipython3",
   "version": "3.11.5"
  }
 },
 "nbformat": 4,
 "nbformat_minor": 5
}
