{
 "cells": [
  {
   "cell_type": "code",
   "execution_count": 1,
   "id": "5a9c33bb-33f0-49bb-bfca-6c3f5a00ebe2",
   "metadata": {
    "collapsed": false
   },
   "outputs": [],
   "source": []
  },
  {
   "cell_type": "code",
   "execution_count": null,
   "id": "b320fa87-3f7c-42cf-9cd0-3877b4b38b42",
   "metadata": {
    "collapsed": false
   },
   "outputs": [],
   "source": []
  }
 ],
 "metadata": {
  "kernelspec": {
   "argv": [
    "/home/gabri/mambaforge/envs/ka-pytorch/bin/python",
    "-m",
    "ipykernel_launcher",
    "-f",
    "{connection_file}"
   ],
   "display_name": "Python 3 (ipykernel)",
   "env": null,
   "interrupt_mode": "signal",
   "language": "python",
   "metadata": {
    "debugger": true
   },
   "name": "python3"
  },
  "name": "ein_server.ipynb"
 },
 "nbformat": 4,
 "nbformat_minor": 5
}
